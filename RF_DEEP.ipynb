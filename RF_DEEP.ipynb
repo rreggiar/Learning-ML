{
 "cells": [
  {
   "cell_type": "code",
   "execution_count": 1,
   "metadata": {},
   "outputs": [
    {
     "name": "stderr",
     "output_type": "stream",
     "text": [
      "/opt/conda/lib/python3.6/site-packages/h5py/__init__.py:36: FutureWarning: Conversion of the second argument of issubdtype from `float` to `np.floating` is deprecated. In future, it will be treated as `np.float64 == np.dtype(float).type`.\n",
      "  from ._conv import register_converters as _register_converters\n"
     ]
    }
   ],
   "source": [
    "import pandas as pd\n",
    "import sys\n",
    "import numpy as np\n",
    "from matplotlib import pyplot\n",
    "import h5py\n",
    "import os\n",
    "import sklearn\n",
    "from sklearn.model_selection import StratifiedShuffleSplit\n",
    "import torch\n",
    "import torch.nn as nn\n",
    "from torch import optim\n",
    "from torch.autograd import Variable\n",
    "from torch.utils.data import DataLoader\n",
    "from torch.utils.data.dataset import Dataset\n",
    "import torch.nn.functional as F\n",
    "from sklearn import preprocessing\n",
    "from scipy.stats import randint as spRand\n",
    "\n",
    "\n",
    "results = []"
   ]
  },
  {
   "cell_type": "code",
   "execution_count": 2,
   "metadata": {},
   "outputs": [],
   "source": [
    "#reading in files\n",
    "X = pd.read_hdf(\"data/tcga_mutation_train.h5\", \"expression\")\n",
    "Y = pd.read_hdf('data/tcga_mutation_train.h5', 'labels')\n",
    "\n",
    "#L1000 subsetting\n",
    "l1000_file = open(\"L1000_clueio_genelist.txt\")\n",
    "l1000 = [i.strip() for i in l1000_file.readlines()]\n",
    "#get l1000 genes that are in data\n",
    "L1000_= pd.Series(list(set(X.columns) & set(l1000)))\n",
    "X_L1000 = X[L1000_] #subset X data\n",
    "\n",
    "# Prune expression to only KEGG pathway genes\n",
    "with open(\"c4.cgn.v6.1.symbols (1).gmt\") as f:\n",
    "    genes_subset = list(set().union(*[line.strip().split(\"\\t\")[2:] for line in f.readlines()]))\n",
    "X_pruned = X.drop(labels=(set(X.columns) - set(genes_subset)), axis=1, errors=\"ignore\")\n",
    "\n",
    "# Encode disease\n",
    "from sklearn import preprocessing\n",
    "disease_encoder = preprocessing.LabelEncoder()\n",
    "disease_encoder.fit(Y[\"primary.disease.or.tissue\"])\n",
    "Y[\"disease_encoding\"] = disease_encoder.transform(Y[\"primary.disease.or.tissue\"])\n",
    "\n",
    "# Divide up into train and test\n",
    "import sklearn.model_selection\n",
    "X_train, X_test, Y_train, Y_test = sklearn.model_selection.train_test_split(\n",
    "    X_pruned, Y, test_size=0.20, random_state=42)"
   ]
  },
  {
   "cell_type": "code",
   "execution_count": 3,
   "metadata": {},
   "outputs": [],
   "source": [
    "from sklearn.ensemble import RandomForestClassifier\n",
    "from sklearn.ensemble import RandomForestRegressor\n",
    "from sklearn.metrics import confusion_matrix\n",
    "from sklearn.metrics import accuracy_score\n",
    "from sklearn.multiclass import OneVsRestClassifier\n",
    "from sklearn.model_selection import RandomizedSearchCV"
   ]
  },
  {
   "cell_type": "code",
   "execution_count": 5,
   "metadata": {},
   "outputs": [
    {
     "name": "stdout",
     "output_type": "stream",
     "text": [
      "howdy\n"
     ]
    }
   ],
   "source": [
    "# use RandomizedSearchCV to randomly probe hyperparameters, output is highest scoring param_dist\n",
    "def randomCV(features):\n",
    "    clf = RandomForestClassifier()\n",
    "    param_dist = {'bootstrap' : [False, True], \n",
    "                      'criterion' : ['gini','entropy'],\n",
    "                      'max_depth' : [3 , None], \n",
    "                      'max_features' : spRand(1,len(features) + 1),\n",
    "                      'min_samples_leaf' : spRand(1,11), \n",
    "                      'min_samples_split' : spRand(2,11), \n",
    "                      'n_estimators' : spRand(500,996),\n",
    "                      'warm_start' : [False, True]}\n",
    "\n",
    "    n_iter_search = 4\n",
    "    random_search = RandomizedSearchCV(clf, param_distributions=param_dist, n_iter=n_iter_search)\n",
    "    return(random_search)\n",
    "#tp53_model = randomCV(X_train.columns)\n",
    "print('howdy')\n",
    "#tp53_model.fit(X_train, Y_train.TP53_mutant)\n",
    "#print(\"TP53 Score:\", tp53_model.score(X_test, Y_test.TP53_mutant))\n"
   ]
  },
  {
   "cell_type": "code",
   "execution_count": 10,
   "metadata": {},
   "outputs": [
    {
     "name": "stdout",
     "output_type": "stream",
     "text": [
      "TP53 Score: 0.8104460093896714\n",
      "KRAS Score: 0.9465962441314554\n",
      "BRAF Score: 0.9559859154929577\n"
     ]
    }
   ],
   "source": [
    "tp53_model = RandomForestClassifier(n_estimators=1000)\n",
    "tp53_model.fit(X_train, Y_train.TP53_mutant)\n",
    "print(\"TP53 Score:\", tp53_model.score(X_test, Y_test.TP53_mutant))\n",
    "\n",
    "kras_model = RandomForestClassifier(n_estimators=1000)\n",
    "kras_model.fit(X_train, Y_train.KRAS_mutant)\n",
    "print(\"KRAS Score:\", kras_model.score(X_test, Y_test.KRAS_mutant))\n",
    "\n",
    "braf_model = RandomForestClassifier(n_estimators=1000)\n",
    "braf_model.fit(X_train, Y_train.BRAF_mutant)\n",
    "print(\"BRAF Score:\", braf_model.score(X_test, Y_test.BRAF_mutant))"
   ]
  },
  {
   "cell_type": "code",
   "execution_count": 11,
   "metadata": {},
   "outputs": [
    {
     "name": "stdout",
     "output_type": "stream",
     "text": [
      "Disease Score: 0.9178403755868545\n"
     ]
    }
   ],
   "source": [
    "disease_model = OneVsRestClassifier(RandomForestClassifier(n_estimators=500)).fit(X_train, Y_train[\"primary.disease.or.tissue\"])\n",
    "print(\"Disease Score:\", disease_model.score(X_test, Y_test[\"primary.disease.or.tissue\"]))"
   ]
  },
  {
   "cell_type": "code",
   "execution_count": 8,
   "metadata": {},
   "outputs": [
    {
     "name": "stdout",
     "output_type": "stream",
     "text": [
      "[1] \"Pheochromocytoma & Paraganglioma_F1_score: 0.967741935483871\"\n",
      "[1] \"Cervical & Endocervical Cancer_F1_score: 0.703703703703704\"\n",
      "[1] \"Breast Invasive Carcinoma_F1_score: 0.983050847457627\"\n",
      "[1] \"Lung Adenocarcinoma_F1_score: 0.887573964497042\"\n",
      "[1] \"Lung Squamous Cell Carcinoma_F1_score: 0.792207792207792\"\n",
      "[1] \"Colon Adenocarcinoma_F1_score: 0.742857142857143\"\n",
      "[1] \"Rectum Adenocarcinoma_F1_score: 0.222222222222222\"\n",
      "[1] \"Thyroid Carcinoma_F1_score: 0.989247311827957\"\n",
      "[1] \"Kidney Clear Cell Carcinoma_F1_score: 0.932038834951456\"\n",
      "[1] \"Esophageal Carcinoma_F1_score: 0.646153846153846\"\n",
      "[1] \"Mesothelioma_F1_score: 0.896551724137931\"\n",
      "[1] \"Ovarian Serous Cystadenocarcinoma_F1_score: 0.976190476190476\"\n",
      "[1] \"Prostate Adenocarcinoma_F1_score: 1\"\n",
      "[1] \"Brain Lower Grade Glioma_F1_score: 0.929577464788732\"\n",
      "[1] \"Cholangiocarcinoma_F1_score: 0.461538461538462\"\n",
      "[1] \"Liver Hepatocellular Carcinoma_F1_score: 0.972222222222222\"\n",
      "[1] \"Bladder Urothelial Carcinoma_F1_score: 0.8\"\n",
      "[1] \"Uterine Carcinosarcoma_F1_score: 0.461538461538462\"\n",
      "[1] \"Head & Neck Squamous Cell Carcinoma_F1_score: 0.848167539267016\"\n",
      "[1] \"Sarcoma_F1_score: 0.849056603773585\"\n",
      "[1] \"Glioblastoma Multiforme_F1_score: 0.782608695652174\"\n",
      "[1] \"Kidney Papillary Cell Carcinoma_F1_score: 0.894736842105263\"\n",
      "[1] \"Thymoma_F1_score: 0.945454545454545\"\n",
      "[1] \"Adrenocortical Cancer_F1_score: 0.923076923076923\"\n",
      "[1] \"Acute Myeloid Leukemia_F1_score: 1\"\n",
      "[1] \"Skin Cutaneous Melanoma_F1_score: 0.96078431372549\"\n",
      "[1] \"Stomach Adenocarcinoma_F1_score: 0.796747967479675\"\n",
      "[1] \"Uveal Melanoma_F1_score: 1\"\n",
      "[1] \"Kidney Chromophobe_F1_score: 0.742857142857143\"\n",
      "[1] \"Pancreatic Adenocarcinoma_F1_score: 0.862068965517241\"\n",
      "[1] \"Uterine Corpus Endometrioid Carcinoma_F1_score: 0.777777777777778\"\n",
      "[1] \"Testicular Germ Cell Tumor_F1_score: 0.943396226415094\"\n",
      "[1] \"Diffuse Large B-Cell Lymphoma_F1_score: 1\"\n",
      "[1] \"Overall Tissue F1 score: 0.853623460262744\"\n",
      "[1] \"TP53_F1_score: 0.671890303623898\"\n",
      "[1] \"KRAS_F1_score: 0.218487394957983\"\n",
      "[1] \"BRAF_F1_score: 0.608695652173913\"\n",
      "[1] \"Mutation_F1_score: 0.539656238509443\"\n",
      "[1] \"Final_F1_score: 0.713751087160268\"\n"
     ]
    }
   ],
   "source": [
    "pd.DataFrame({\n",
    "    \"TumorTypePrediction\": disease_model.predict(X_test),\n",
    "    \"TP53MutationPrediction\": tp53_model.predict(X_test),\n",
    "    \"KRASMutationPrediction\": kras_model.predict(X_test),\n",
    "    \"BRAFMutationPrediction\": braf_model.predict(X_test),\n",
    "}).to_csv(\"test_predictions.tsv\", sep=\"\\t\")\n",
    "\n",
    "pd.DataFrame({\n",
    "    \"primary.disease.or.tissue\": Y_test[\"primary.disease.or.tissue\"],\n",
    "    \"TP53_mutant\": Y_test.TP53_mutant,\n",
    "    \"KRAS_mutant\": Y_test.KRAS_mutant,\n",
    "    \"BRAF_mutant\": Y_test.BRAF_mutant,\n",
    "}).to_csv(\"test_actuals.tsv\", sep=\"\\t\")\n",
    "!Rscript BME230_F1score_V2.R test_predictions.tsv test_actuals.tsv"
   ]
  },
  {
   "cell_type": "code",
   "execution_count": 12,
   "metadata": {},
   "outputs": [
    {
     "name": "stdout",
     "output_type": "stream",
     "text": [
      "howdy\n",
      "TP53 Score: 0.8309859154929577\n"
     ]
    }
   ],
   "source": [
    "# use RandomizedSearchCV to randomly probe hyperparameters, output is highest scoring param_dist\n",
    "def randomCV(features):\n",
    "    clf = RandomForestClassifier()\n",
    "    param_dist = {'bootstrap' : [False, True], \n",
    "                      'criterion' : ['gini','entropy'],\n",
    "                      'max_depth' : [3 , None], \n",
    "                      'max_features' : spRand(1,len(features) + 1),\n",
    "                      'min_samples_leaf' : spRand(1,11), \n",
    "                      'min_samples_split' : spRand(2,11), \n",
    "                      'n_estimators' : spRand(500,996),\n",
    "                      'warm_start' : [False, True]}\n",
    "\n",
    "    n_iter_search = 4\n",
    "    random_search = RandomizedSearchCV(clf, param_distributions=param_dist, n_iter=n_iter_search)\n",
    "    return(random_search)\n",
    "\n",
    "tp53_model = randomCV(X_train.columns)\n",
    "tp53_model.fit(X_train, Y_train.TP53_mutant)\n",
    "print(\"TP53 Score:\", tp53_model.score(X_test, Y_test.TP53_mutant))"
   ]
  },
  {
   "cell_type": "code",
   "execution_count": null,
   "metadata": {},
   "outputs": [],
   "source": [
    "kras_model = tp53_model\n",
    "kras_model.fit(X_train, Y_train.KRAS_mutant)\n",
    "print(\"KRAS Score:\", kras_model.score(X_test, Y_test.KRAS_mutant))\n",
    "\n",
    "braf_model = tp53_model\n",
    "braf_model.fit(X_train, Y_train.BRAF_mutant)\n",
    "print(\"BRAF Score:\", braf_model.score(X_test, Y_test.BRAF_mutant))\n",
    "\n",
    "disease_model = OneVsRestClassifier(tp53_model).fit(X_train, Y_train[\"primary.disease.or.tissue\"])\n",
    "print(\"Disease Score:\", disease_model.score(X_test, Y_test[\"primary.disease.or.tissue\"]))"
   ]
  },
  {
   "cell_type": "code",
   "execution_count": null,
   "metadata": {},
   "outputs": [],
   "source": [
    "pd.DataFrame({\n",
    "    \"TumorTypePrediction\": disease_model.predict(X_test),\n",
    "    \"TP53MutationPrediction\": tp53_model.predict(X_test),\n",
    "    \"KRASMutationPrediction\": kras_model.predict(X_test),\n",
    "    \"BRAFMutationPrediction\": braf_model.predict(X_test),\n",
    "}).to_csv(\"test_predictions.tsv\", sep=\"\\t\")\n",
    "\n",
    "pd.DataFrame({\n",
    "    \"primary.disease.or.tissue\": Y_test[\"primary.disease.or.tissue\"],\n",
    "    \"TP53_mutant\": Y_test.TP53_mutant,\n",
    "    \"KRAS_mutant\": Y_test.KRAS_mutant,\n",
    "    \"BRAF_mutant\": Y_test.BRAF_mutant,\n",
    "}).to_csv(\"test_actuals.tsv\", sep=\"\\t\")\n",
    "!Rscript BME230_F1score_V2.R test_predictions.tsv test_actuals.tsv"
   ]
  }
 ],
 "metadata": {
  "kernelspec": {
   "display_name": "Python 3",
   "language": "python",
   "name": "python3"
  },
  "language_info": {
   "codemirror_mode": {
    "name": "ipython",
    "version": 3
   },
   "file_extension": ".py",
   "mimetype": "text/x-python",
   "name": "python",
   "nbconvert_exporter": "python",
   "pygments_lexer": "ipython3",
   "version": "3.6.3"
  }
 },
 "nbformat": 4,
 "nbformat_minor": 2
}
