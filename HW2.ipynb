{
 "cells": [
  {
   "cell_type": "markdown",
   "metadata": {},
   "source": [
    "# HW 2"
   ]
  },
  {
   "cell_type": "markdown",
   "metadata": {},
   "source": [
    "### Roman Reggiardo\n",
    "Sorry this formatting is a little weird, I made this on our jupyter notebooks and figured it would be a little more streamlined. Text answers are up front, all calculations are in the figures that follow. "
   ]
  },
  {
   "cell_type": "markdown",
   "metadata": {},
   "source": [
    "## 1a"
   ]
  },
  {
   "cell_type": "markdown",
   "metadata": {},
   "source": [
    "![in](Diag2.jpeg)"
   ]
  },
  {
   "cell_type": "markdown",
   "metadata": {},
   "source": [
    "## 1b"
   ]
  },
  {
   "cell_type": "markdown",
   "metadata": {},
   "source": [
    "XH and RH will be the hidden variables as they are dependent on the presenece of their subunits (HDAC, X, Rb). "
   ]
  },
  {
   "cell_type": "markdown",
   "metadata": {},
   "source": [
    "## 1c"
   ]
  },
  {
   "cell_type": "markdown",
   "metadata": {},
   "source": [
    "I(S-phase, Rb | chromatin=open) --> True, serial connection where intermediate node state is known  \n",
    "  \n",
    "I(S-phase, Rb | chromatin=closed) --> True, same as above  \n",
    "  \n",
    "I(HDAC,Rb) --> True, Independent, no shared lineage or shared edge  \n",
    "  \n",
    "I(HDAC,Rb | chromatin=open) --> False, these are conditionally dependent \n",
    "  \n",
    "I(HDAC, S-phase | XH = present) --> True, serial connection with known intermediate  \n",
    "  \n",
    "I(HDAC, X) --> True, Independent, no shared lineage or shared edge  \n",
    "  \n",
    "I(HDAC, X | XH = present) --> False, converging connection  \n",
    "  \n",
    "I(HDAC, X | chromatin=closed) --> False, conditionally dependent  "
   ]
  },
  {
   "cell_type": "markdown",
   "metadata": {},
   "source": [
    "## 1d"
   ]
  },
  {
   "cell_type": "markdown",
   "metadata": {},
   "source": [
    "![diagram](1D.jpeg)"
   ]
  },
  {
   "cell_type": "markdown",
   "metadata": {},
   "source": [
    "![2A](2A.jpeg)"
   ]
  },
  {
   "cell_type": "markdown",
   "metadata": {},
   "source": [
    "![2BCD](2BCD.jpeg)"
   ]
  },
  {
   "cell_type": "markdown",
   "metadata": {},
   "source": [
    "![3](3.jpeg)"
   ]
  },
  {
   "cell_type": "markdown",
   "metadata": {},
   "source": [
    "![Bash script used to generate input data](bash.png)"
   ]
  },
  {
   "cell_type": "markdown",
   "metadata": {},
   "source": [
    "## 3d\n",
    "Model A perfroms significantly better on the Y dataset than model B does, but has a less than convincing edge when applied to the random data sets. However:  \n",
    "\"*A model that better represents the data than a competing model should produce a higher log-likelihood than the competing model. It should also produce a clear distinction between using Y genes and using arbitrary genes drawn randomly from the genome.*\"   \n",
    "Given these results, it appears that Model A better performs the data given its far superior treatment of the Y dataset.\n"
   ]
  },
  {
   "cell_type": "markdown",
   "metadata": {},
   "source": [
    "![Histograms, overlaid](histPlot.png)"
   ]
  },
  {
   "cell_type": "code",
   "execution_count": null,
   "metadata": {},
   "outputs": [],
   "source": []
  }
 ],
 "metadata": {
  "kernelspec": {
   "display_name": "Python 3",
   "language": "python",
   "name": "python3"
  },
  "language_info": {
   "codemirror_mode": {
    "name": "ipython",
    "version": 3
   },
   "file_extension": ".py",
   "mimetype": "text/x-python",
   "name": "python",
   "nbconvert_exporter": "python",
   "pygments_lexer": "ipython3",
   "version": "3.6.3"
  }
 },
 "nbformat": 4,
 "nbformat_minor": 2
}
